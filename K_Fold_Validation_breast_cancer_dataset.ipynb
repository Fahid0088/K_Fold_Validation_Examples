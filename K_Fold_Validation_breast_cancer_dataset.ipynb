{
 "cells": [
  {
   "cell_type": "code",
   "execution_count": 70,
   "id": "a57ed1eb",
   "metadata": {},
   "outputs": [],
   "source": [
    "import pandas as pd\n",
    "import numpy as np\n",
    "from sklearn.datasets import load_breast_cancer\n",
    "from sklearn.preprocessing import StandardScaler\n",
    "from sklearn.linear_model import LogisticRegression\n",
    "from sklearn.metrics import accuracy_score\n",
    "import joblib"
   ]
  },
  {
   "cell_type": "code",
   "execution_count": 101,
   "id": "194a2dcf",
   "metadata": {},
   "outputs": [],
   "source": [
    "def load_and_normalize_dataset():\n",
    "    DataSet = load_breast_cancer()\n",
    "    DataFrame = pd.DataFrame(DataSet.data, columns= DataSet.feature_names)\n",
    "    DataFrame['Target'] = DataSet.target\n",
    "\n",
    "    normalizer = StandardScaler()\n",
    "    normalized_Input_Fields = normalizer.fit_transform (DataFrame.iloc[:,: len(DataSet.feature_names)])\n",
    "    return normalized_Input_Fields, DataFrame['Target'].values\n",
    "\n",
    "\n",
    "def Split_into_K_Folds(K, X,Y):\n",
    "\n",
    "    indices = np.arange(len(X))\n",
    "    np.random.shuffle(indices)\n",
    "    \n",
    "    X = X[indices]\n",
    "    Y = Y[indices]\n",
    "\n",
    "    size_of_folds = [len(X)//K for i in range(K)]\n",
    "\n",
    "    for i in range(len(X)%K ):\n",
    "        size_of_folds[i] += 1 \n",
    "    \n",
    "    S_index = 0\n",
    "    E_index = 0\n",
    "\n",
    "    Folds = []\n",
    "\n",
    "    for i in range (K):\n",
    "        S_index =  E_index\n",
    "        E_index = S_index + size_of_folds[i]\n",
    "        Folds.append((X[S_index:E_index],Y[S_index:E_index]))\n",
    "    \n",
    "    return Folds\n",
    "\n",
    "def K_Fold_Validation (K,X,Y):\n",
    "\n",
    "    Folds = Split_into_K_Folds(K,X,Y)\n",
    "    accuracy = []\n",
    "\n",
    "    for i in range (K):\n",
    "        test_x = Folds[i][0]\n",
    "        test_y = Folds[i][1]\n",
    "\n",
    "        \n",
    "        train_x = np.vstack ([Folds[j][0] for j in range(K) if j!=i]) # vstack will combine all folds X vertically\n",
    "        train_y = np.hstack ([Folds[j][1] for j in range(K) if j!=i]) # vstack will combine all folds Y horizontal\n",
    "\n",
    "        model = LogisticRegression(max_iter=200)\n",
    "        model.fit(train_x, train_y)\n",
    "\n",
    "        predict_y = model.predict(test_x)\n",
    "        accur = accuracy_score(test_y, predict_y)\n",
    "        accuracy.append(accur)\n",
    "\n",
    "        print (f'Accuracy: {accur:.4f}')\n",
    "\n",
    "        if i == K-1:\n",
    "            joblib.dump(model, 'breast_cancer_model.pkl')\n",
    "    print (f'Mean Accuracy: {np.mean(accuracy):0.4f}')\n",
    "\n",
    "def predict_cancer (X):\n",
    "    model = joblib.load('breast_cancer_model.pkl')\n",
    "    Y = model.predict (X)\n",
    "    return Y\n"
   ]
  },
  {
   "cell_type": "code",
   "execution_count": 105,
   "id": "7a54bfa2",
   "metadata": {},
   "outputs": [
    {
     "name": "stdout",
     "output_type": "stream",
     "text": [
      "Accuracy: 0.9737\n",
      "Accuracy: 0.9912\n",
      "Accuracy: 0.9737\n",
      "Accuracy: 0.9912\n",
      "Accuracy: 0.9735\n",
      "Mean Accuracy: 0.9807\n",
      "\n",
      "<----------(Result)--------->\n",
      "Patient 1 has cancerous tumors.\n",
      "Patient 2 has cancerous tumors.\n",
      "Patient 3 has not cancerous tumors.\n",
      "Patient 4 has cancerous tumors.\n",
      "Patient 5 has not cancerous tumors.\n"
     ]
    }
   ],
   "source": [
    "X,Y = load_and_normalize_dataset()\n",
    "K_Fold_Validation (5, X,Y)\n",
    "\n",
    "random_indices =[ np.random.randint(len(X)) for i in range (5)]\n",
    "sample_of_5_patient = X[random_indices]\n",
    "result = predict_cancer(sample_of_5_patient)\n",
    "print ()\n",
    "print ('<----------(Result)--------->')\n",
    "for i,res in enumerate(result):\n",
    "    if res == 0:\n",
    "        print (f'Patient {i+1} has cancerous tumors.')\n",
    "    else:\n",
    "        print (f'Patient {i+1} has not cancerous tumors.')\n",
    "\n"
   ]
  }
 ],
 "metadata": {
  "kernelspec": {
   "display_name": "myenv",
   "language": "python",
   "name": "python3"
  },
  "language_info": {
   "codemirror_mode": {
    "name": "ipython",
    "version": 3
   },
   "file_extension": ".py",
   "mimetype": "text/x-python",
   "name": "python",
   "nbconvert_exporter": "python",
   "pygments_lexer": "ipython3",
   "version": "3.12.7"
  }
 },
 "nbformat": 4,
 "nbformat_minor": 5
}
